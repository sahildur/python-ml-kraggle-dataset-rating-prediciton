{
 "metadata": {
  "name": "",
  "signature": "sha256:57b628c2facc448f4e8ecdccdfdcf008e027bf5e9719747a4f52be0afe23f0de"
 },
 "nbformat": 3,
 "nbformat_minor": 0,
 "worksheets": [
  {
   "cells": [
    {
     "cell_type": "code",
     "collapsed": false,
     "input": [
      "import pickle\n",
      "import pandas as pd\n",
      "import numpy as np\n",
      "import re\n",
      "from sklearn.cluster import KMeans\n",
      "from sklearn.metrics import mean_squared_error\n",
      "import matplotlib.pyplot as plt\n",
      "import plotly.plotly as py\n",
      "import csv\n",
      "import string"
     ],
     "language": "python",
     "metadata": {},
     "outputs": [],
     "prompt_number": 107
    },
    {
     "cell_type": "code",
     "collapsed": false,
     "input": [
      "# plants = {}\n",
      "# plants[\"abc\"]=1\n",
      "# if(plants.get(\"abc\")==1):\n",
      "#     print(\"found\")v\n",
      "# else:\n",
      "#     print(\"notfound\")"
     ],
     "language": "python",
     "metadata": {},
     "outputs": [],
     "prompt_number": 108
    },
    {
     "cell_type": "heading",
     "level": 3,
     "metadata": {},
     "source": [
      "Checking the format"
     ]
    },
    {
     "cell_type": "code",
     "collapsed": false,
     "input": [
      "f = open(\"data/Movies.dat\")\n",
      "\n",
      "numline_error = len(f.readlines())\n",
      "print(numline_error)\n",
      "numline=3952\n",
      "\n",
      "f = open(\"data/Movies.dat\")\n",
      "\n",
      "counter=0\n",
      "for row in csv.reader(f):\n",
      "    print(row[0])\n",
      "    counter=counter+1\n",
      "    if(counter>10):\n",
      "        break\n"
     ],
     "language": "python",
     "metadata": {},
     "outputs": [
      {
       "output_type": "stream",
       "stream": "stdout",
       "text": [
        "3883\n",
        "1::Toy Story (1995)::Animation|Children's|Comedy\n",
        "2::Jumanji (1995)::Adventure|Children's|Fantasy\n",
        "3::Grumpier Old Men (1995)::Comedy|Romance\n",
        "4::Waiting to Exhale (1995)::Comedy|Drama\n",
        "5::Father of the Bride Part II (1995)::Comedy\n",
        "6::Heat (1995)::Action|Crime|Thriller\n",
        "7::Sabrina (1995)::Comedy|Romance\n",
        "8::Tom and Huck (1995)::Adventure|Children's\n",
        "9::Sudden Death (1995)::Action\n",
        "10::GoldenEye (1995)::Action|Adventure|Thriller\n",
        "11::American President\n"
       ]
      }
     ],
     "prompt_number": 109
    },
    {
     "cell_type": "heading",
     "level": 3,
     "metadata": {},
     "source": [
      "Getting only the categories dictionary and count"
     ]
    },
    {
     "cell_type": "code",
     "collapsed": false,
     "input": [
      "#myarray = np.fromfile('data/Movies.dat',dtype=float)\n",
      "f = open(\"data/Movies.dat\")\n",
      "\n",
      "category={}\n",
      "\n",
      "for row in csv.reader(f):\n",
      "#     print(row[0])\n",
      "#     print(row[0].count(\"::\"))\n",
      "#     print(row[0].count(\"::\"))\n",
      "    split=row[0].split(\"::\", row[0].count(\"::\"))\n",
      "#     print(len(split))\n",
      "    if len(split)<=2:\n",
      "        continue\n",
      "#     print(split[2])\n",
      "    \n",
      "    split_cate=split[2].split(\"|\", split[2].count(\"|\"))\n",
      "    #print(split_cate)\n",
      "    for each in split_cate:\n",
      "#         print each\n",
      "        if(category.get(each)==1):\n",
      "            #print(\"found\")\n",
      "            something=1\n",
      "        else:\n",
      "            category[each]=1\n",
      "    #print(category)\n",
      "    #stop\n",
      "print(category)"
     ],
     "language": "python",
     "metadata": {},
     "outputs": [
      {
       "output_type": "stream",
       "stream": "stdout",
       "text": [
        "{'Mystery': 1, 'Drama': 1, 'Sci-Fi': 1, 'Fantasy': 1, 'Horror': 1, 'Film-Noir': 1, 'Crime': 1, 'Romance': 1, \"Children's\": 1, 'Musical': 1, 'Animation': 1, 'Adventure': 1, 'Action': 1, 'Comedy': 1, 'Documentary': 1, 'War': 1, 'Thriller': 1, 'Western': 1}\n"
       ]
      }
     ],
     "prompt_number": 110
    },
    {
     "cell_type": "code",
     "collapsed": false,
     "input": [
      "len(category.keys())"
     ],
     "language": "python",
     "metadata": {},
     "outputs": [
      {
       "metadata": {},
       "output_type": "pyout",
       "prompt_number": 111,
       "text": [
        "18"
       ]
      }
     ],
     "prompt_number": 111
    },
    {
     "cell_type": "code",
     "collapsed": false,
     "input": [
      "category"
     ],
     "language": "python",
     "metadata": {},
     "outputs": [
      {
       "metadata": {},
       "output_type": "pyout",
       "prompt_number": 112,
       "text": [
        "{'Action': 1,\n",
        " 'Adventure': 1,\n",
        " 'Animation': 1,\n",
        " \"Children's\": 1,\n",
        " 'Comedy': 1,\n",
        " 'Crime': 1,\n",
        " 'Documentary': 1,\n",
        " 'Drama': 1,\n",
        " 'Fantasy': 1,\n",
        " 'Film-Noir': 1,\n",
        " 'Horror': 1,\n",
        " 'Musical': 1,\n",
        " 'Mystery': 1,\n",
        " 'Romance': 1,\n",
        " 'Sci-Fi': 1,\n",
        " 'Thriller': 1,\n",
        " 'War': 1,\n",
        " 'Western': 1}"
       ]
      }
     ],
     "prompt_number": 112
    },
    {
     "cell_type": "heading",
     "level": 3,
     "metadata": {},
     "source": [
      "Making movie_to_cluster_cate 2d matrix movies vs it's belongs to any of the 18 genre"
     ]
    },
    {
     "cell_type": "code",
     "collapsed": false,
     "input": [
      "movie_to_cluster_cate=np.zeros(shape=(numline,18))\n",
      "\n",
      "movie_to_cluster_cate.shape\n",
      "f = open(\"data/Movies.dat\")\n",
      "\n",
      "counter=0\n",
      "for row in csv.reader(f):\n",
      "    counter=counter+1\n",
      "    #print(row[0])\n",
      "#     print(row[0].count(\"::\"))\n",
      "#     print(row[0].count(\"::\"))\n",
      "    split=row[0].split(\"::\", row[0].count(\"::\"))\n",
      "#     print(len(split))\n",
      "\n",
      "#check if some movie is missing\n",
      "#     if str(split[0]) != str(counter):\n",
      "#         print(split[0])\n",
      "#         print(counter)\n",
      "#         print('here')\n",
      "#         break\n",
      "    if len(split)<=2:\n",
      "        continue\n",
      "#     print(split[2])\n",
      "    \n",
      "    split_cate=split[2].split(\"|\", split[2].count(\"|\"))\n",
      "    #print(split_cate)\n",
      "    for each in split_cate:        \n",
      "        #print each\n",
      "        curr_index=category.keys().index(each)        \n",
      "        movie_to_cluster_cate[int(split[0])-1][curr_index]=1\n",
      "#         print each\n",
      "#         print stop\n",
      "        \n",
      "    #print(category)\n",
      "#    stop\n"
     ],
     "language": "python",
     "metadata": {},
     "outputs": [],
     "prompt_number": 113
    },
    {
     "cell_type": "code",
     "collapsed": false,
     "input": [
      "movie_to_cluster_cate[0]"
     ],
     "language": "python",
     "metadata": {},
     "outputs": [
      {
       "metadata": {},
       "output_type": "pyout",
       "prompt_number": 114,
       "text": [
        "array([ 0.,  0.,  0.,  0.,  0.,  0.,  0.,  0.,  1.,  0.,  1.,  0.,  0.,\n",
        "        1.,  0.,  0.,  0.,  0.])"
       ]
      }
     ],
     "prompt_number": 114
    },
    {
     "cell_type": "heading",
     "level": 3,
     "metadata": {},
     "source": [
      "Distributed into 12 clusters"
     ]
    },
    {
     "cell_type": "code",
     "collapsed": false,
     "input": [],
     "language": "python",
     "metadata": {},
     "outputs": [],
     "prompt_number": 114
    },
    {
     "cell_type": "code",
     "collapsed": false,
     "input": [
      "no_of_clusters=12\n",
      "\n",
      "cluster = KMeans(n_clusters=no_of_clusters)\n",
      "#cluster.fit_predict(movie_genre)\n",
      "cluster.fit(movie_to_cluster_cate)\n",
      "print(cluster.predict(movie_to_cluster_cate[0].reshape(1, -1)))\n",
      "print(cluster.predict(movie_to_cluster_cate[1].reshape(1, -1)))\n",
      "print(cluster.predict(movie_to_cluster_cate[2].reshape(1, -1)))\n",
      "print(cluster.predict(movie_to_cluster_cate[3].reshape(1, -1)))\n",
      "print(cluster.predict(movie_to_cluster_cate[4].reshape(1, -1)))\n",
      "print(cluster.predict(movie_to_cluster_cate[5].reshape(1, -1)))"
     ],
     "language": "python",
     "metadata": {},
     "outputs": [
      {
       "output_type": "stream",
       "stream": "stdout",
       "text": [
        "[9]\n",
        "[8]\n",
        "[4]\n",
        "[11]\n",
        "[7]\n",
        "[0]\n"
       ]
      }
     ],
     "prompt_number": 115
    },
    {
     "cell_type": "code",
     "collapsed": false,
     "input": [
      "movie_to_cluster_cate[3882]"
     ],
     "language": "python",
     "metadata": {},
     "outputs": [
      {
       "metadata": {},
       "output_type": "pyout",
       "prompt_number": 116,
       "text": [
        "array([ 0.,  1.,  0.,  0.,  0.,  0.,  0.,  0.,  0.,  0.,  0.,  0.,  0.,\n",
        "        1.,  0.,  0.,  0.,  0.])"
       ]
      }
     ],
     "prompt_number": 116
    },
    {
     "cell_type": "code",
     "collapsed": false,
     "input": [
      "print cluster.cluster_centers_[1:2]"
     ],
     "language": "python",
     "metadata": {},
     "outputs": [
      {
       "output_type": "stream",
       "stream": "stdout",
       "text": [
        "[[  2.33918129e-02   7.77777778e-01   1.16959064e-02   1.16959064e-02\n",
        "   -1.24900090e-16   3.46944695e-17   1.75438596e-02   1.00000000e+00\n",
        "    1.87350135e-16   2.92397661e-02   4.16333634e-17   1.75438596e-02\n",
        "    1.75438596e-02   4.71844785e-16   7.63278329e-17   7.01754386e-02\n",
        "    1.75438596e-02   1.16959064e-02]]\n"
       ]
      }
     ],
     "prompt_number": 117
    },
    {
     "cell_type": "heading",
     "level": 3,
     "metadata": {},
     "source": [
      "Not happy with kmeans clustering histogram"
     ]
    },
    {
     "cell_type": "code",
     "collapsed": false,
     "input": [
      "plt.hist(cluster.labels_,bins=no_of_clusters)\n",
      "plt.title(\"Movies into clusters by Genre\")\n",
      "plt.xlabel(\"Value\")\n",
      "plt.ylabel(\"Frequency\")\n",
      "\n",
      "plt.plot()"
     ],
     "language": "python",
     "metadata": {},
     "outputs": [
      {
       "metadata": {},
       "output_type": "pyout",
       "prompt_number": 118,
       "text": [
        "[]"
       ]
      },
      {
       "metadata": {},
       "output_type": "display_data",
       "png": "[encoded data removed]",
       "text": [
        "<matplotlib.figure.Figure at 0xa37beb8>"
       ]
      }
     ],
     "prompt_number": 118
    },
    {
     "cell_type": "code",
     "collapsed": false,
     "input": [
      "cluster.labels_[1:100]"
     ],
     "language": "python",
     "metadata": {},
     "outputs": [
      {
       "metadata": {},
       "output_type": "pyout",
       "prompt_number": 119,
       "text": [
        "array([ 8,  4, 11,  7,  0,  4,  8,  0,  0,  2,  6,  9,  3,  8,  3,  1,  5,\n",
        "        7,  0, 11,  3,  5,  3,  1,  3,  3,  1,  2,  3,  3,  3,  8, 11,  1,\n",
        "        3,  2,  7,  4,  2,  3,  3,  3,  8, 11,  1,  5,  9,  1,  2,  0,  7,\n",
        "        3,  2,  3,  8,  3,  2,  2,  2,  3,  3,  7,  4,  7,  5,  3,  4,  7,\n",
        "        0,  0, 11,  2,  1, 11,  5,  2,  2,  2,  2,  1,  3,  3, 11,  1,  3,\n",
        "        7,  7,  0,  2,  2,  3,  4,  3,  0,  7,  2,  0,  2,  3])"
       ]
      }
     ],
     "prompt_number": 119
    },
    {
     "cell_type": "code",
     "collapsed": false,
     "input": [
      "# f = open(\"data/Users.dat\")\n",
      "\n",
      "# category={}\n",
      "\n",
      "# for row in csv.reader(f):\n",
      "from numpy import genfromtxt\n",
      "rating_data = genfromtxt('data/training_ratings_for_kaggle_comp.csv', delimiter=',',dtype='int')\n",
      "rating_data[0]\n",
      "rating_data[1]\n",
      "rating_data[2]\n"
     ],
     "language": "python",
     "metadata": {},
     "outputs": [
      {
       "metadata": {},
       "output_type": "pyout",
       "prompt_number": 120,
       "text": [
        "array([2783,  589,    5,   -1])"
       ]
      }
     ],
     "prompt_number": 120
    },
    {
     "cell_type": "heading",
     "level": 3,
     "metadata": {},
     "source": [
      "Training and validation set"
     ]
    },
    {
     "cell_type": "code",
     "collapsed": false,
     "input": [
      "print(len(rating_data))\n",
      "np.random.shuffle(rating_data)\n",
      "\n",
      "print(rating_data[0])\n",
      "print(rating_data[1])\n",
      "print(rating_data[2])\n",
      "\n",
      "rating_data_train=rating_data[0:400000]\n",
      "rating_data_validation=rating_data[400000:]\n"
     ],
     "language": "python",
     "metadata": {},
     "outputs": [
      {
       "output_type": "stream",
       "stream": "stdout",
       "text": [
        "500101\n",
        "[4510 1343    2   -1]"
       ]
      },
      {
       "output_type": "stream",
       "stream": "stdout",
       "text": [
        "\n",
        "[3634 3593    1   -1]\n",
        "[3931 3097    5   -1]\n"
       ]
      }
     ],
     "prompt_number": 121
    },
    {
     "cell_type": "code",
     "collapsed": false,
     "input": [
      "len(rating_data_train)\n",
      "no_of_users=6040"
     ],
     "language": "python",
     "metadata": {},
     "outputs": [],
     "prompt_number": 122
    },
    {
     "cell_type": "code",
     "collapsed": false,
     "input": [
      "# user_cluster_impact=np.zeros(shape=(no_of_users,18))"
     ],
     "language": "python",
     "metadata": {},
     "outputs": [],
     "prompt_number": 123
    },
    {
     "cell_type": "heading",
     "level": 3,
     "metadata": {},
     "source": [
      "Users rating for each movie matrix: it will help reduce time for each iteration in the next cell code"
     ]
    },
    {
     "cell_type": "code",
     "collapsed": false,
     "input": [
      "user_rating_matrix= np.zeros((no_of_users, numline))\n",
      "for j in range(0, len(rating_data_train)):\n",
      "    user_rating_matrix[rating_data_train[j][0]-1][rating_data_train[j][1]-1]=rating_data_train[j][2]\n",
      "    \n",
      "\n",
      "\n",
      "    "
     ],
     "language": "python",
     "metadata": {},
     "outputs": [],
     "prompt_number": 124
    },
    {
     "cell_type": "markdown",
     "metadata": {},
     "source": [
      "Dimension reduction for similarity calculation on users: Now instead od users vs each movie we make a matric user vs each cluster user has impact. i.e. each user for any movie he/she rated that movie belong to one of the cluster . There can be multiple movies belonging to the same cluster. Ratings within each cluster will be averaged."
     ]
    },
    {
     "cell_type": "code",
     "collapsed": false,
     "input": [
      "user_cluster_impact = []\n",
      "for i in range(0, no_of_users):\n",
      "#     print(i)\n",
      "    if i >=0:\n",
      "        average = np.zeros(no_of_clusters)\n",
      "        tmp = []\n",
      "        for m in range(0, no_of_clusters):\n",
      "            tmp.append([])\n",
      "        for j in range(0, numline):\n",
      "            #print j+1\n",
      "#             index_of_deal=np.where(deals2_subcolumns_nparray[:,0]==float(j+1))            \n",
      "            # print index_of_deal\n",
      "#                 if len(index_of_deal[0])==1:\n",
      "            if(user_rating_matrix[i][j]!=0):\n",
      "                cluster_label=cluster.predict(movie_to_cluster_cate[j].reshape(1, -1))   \n",
      "                    #print \"utility\"+str(utility[i][j])\n",
      "                tmp[cluster_label].append(user_rating_matrix[i][j])\n",
      "        for m in range(0, no_of_clusters):\n",
      "            if len(tmp[m]) != 0:\n",
      "                average[m] = np.mean(tmp[m])\n",
      "            else:\n",
      "                average[m] = 0\n",
      "            #print average\n",
      "        user_cluster_impact.append(average)\n",
      "\n",
      "        \n",
      "print \"complete code run\"\n"
     ],
     "language": "python",
     "metadata": {},
     "outputs": [
      {
       "output_type": "stream",
       "stream": "stdout",
       "text": [
        "complete code run\n"
       ]
      }
     ],
     "prompt_number": 125
    },
    {
     "cell_type": "heading",
     "level": 3,
     "metadata": {},
     "source": [
      "Check till now"
     ]
    },
    {
     "cell_type": "code",
     "collapsed": false,
     "input": [
      "user_cluster_impact[2782]"
     ],
     "language": "python",
     "metadata": {},
     "outputs": [
      {
       "metadata": {},
       "output_type": "pyout",
       "prompt_number": 126,
       "text": [
        "array([ 0.        ,  0.        ,  4.28571429,  3.8       ,  0.        ,\n",
        "        5.        ,  0.        ,  4.66666667,  1.        ,  0.        ,\n",
        "        3.84210526,  3.        ])"
       ]
      }
     ],
     "prompt_number": 126
    },
    {
     "cell_type": "code",
     "collapsed": false,
     "input": [
      "user_rating_matrix[2782]"
     ],
     "language": "python",
     "metadata": {},
     "outputs": [
      {
       "metadata": {},
       "output_type": "pyout",
       "prompt_number": 127,
       "text": [
        "array([ 0.,  0.,  0., ...,  0.,  0.,  0.])"
       ]
      }
     ],
     "prompt_number": 127
    },
    {
     "cell_type": "markdown",
     "metadata": {},
     "source": [
      "Average rating for each users and pcs function(directly taken from internet)"
     ]
    },
    {
     "cell_type": "markdown",
     "metadata": {},
     "source": [
      "We calculate similarity between each user above the user id(2781) for which rating data was present and was further \n",
      "divided into train and validation data\n"
     ]
    },
    {
     "cell_type": "code",
     "collapsed": false,
     "input": [
      "\n",
      "### Average rating for each user ##\n",
      "\n",
      "user=[]\n",
      "for i in range(0, no_of_users):\n",
      "    x = user_cluster_impact[i]\n",
      "    #print i\n",
      "    user.append(sum(a for a in x if a > 0) / sum(a > 0 for a in x))\n",
      "\n",
      "\n",
      "print \"HERE average rating\"\n",
      "## Pearson Correlation Similarity Measure\n",
      "\n",
      "def pcs(x, y):\n",
      "    num = 0\n",
      "    den1 = 0\n",
      "    den2 = 0\n",
      "    A = user_cluster_impact[x - 1]\n",
      "    B = user_cluster_impact[y - 1]\n",
      "    num = sum((a - user[x - 1]) * (b - user[y - 1]) for a, b in zip(A, B) if a > 0 and b > 0)\n",
      "    den1 = sum((a - user[x - 1]) ** 2 for a in A if a > 0)\n",
      "    den2 = sum((b - user[y - 1]) ** 2 for b in B if b > 0)\n",
      "    den = (den1 ** 0.5) * (den2 ** 0.5)\n",
      "    if den == 0:\n",
      "        return 0\n",
      "    else:\n",
      "        return num / den\n",
      "#\n",
      "\n",
      "print \"HERE PCS function\"\n",
      "\n",
      "pcs_matrix = np.zeros((no_of_users, no_of_users))\n",
      "for i in range(0, no_of_users):\n",
      "    if i>2781:\n",
      "#         print(i)\n",
      "        for j in range(0, no_of_users):\n",
      "            if j>2781:             \n",
      "                if i!=j:\n",
      "        #           print str(i)+\" \"+str(j)\n",
      "                    pcs_matrix[i][j] = pcs(i + 1, j + 1)\n",
      "\n",
      "\n",
      "print \"HERE PCS complete\""
     ],
     "language": "python",
     "metadata": {},
     "outputs": [
      {
       "output_type": "stream",
       "stream": "stdout",
       "text": [
        "HERE average rating\n",
        "HERE PCS function\n",
        "HERE PCS complete"
       ]
      },
      {
       "output_type": "stream",
       "stream": "stdout",
       "text": [
        "\n"
       ]
      }
     ],
     "prompt_number": 128
    },
    {
     "cell_type": "markdown",
     "metadata": {},
     "source": [
      "Now using the top similar users for a user-movie for which rating data is in validation set we guess the rating \n",
      "by averaging over top similar users data in the cluster in which a particular movie falls in"
     ]
    },
    {
     "cell_type": "code",
     "collapsed": false,
     "input": [
      "def norm():\n",
      "    normalize = np.zeros((no_of_users, no_of_clusters))\n",
      "    for i in range(0, no_of_users):\n",
      "        for j in range(0, no_of_clusters):\n",
      "            if user_cluster_impact[i][j] != 0:\n",
      "                normalize[i][j] = user_cluster_impact[i][j] - user[i]\n",
      "            else:\n",
      "                normalize[i][j] = float('Inf')\n",
      "    return normalize\n",
      "#\n",
      "def guess(user_id, i_id, top_n,norm):\n",
      "    similarity = []\n",
      "    for i in range(0, no_of_users):\n",
      "        if i>2781:\n",
      "            if i+1 != user_id:\n",
      "                similarity.append(pcs_matrix[user_id-1][i])\n",
      "    temp = norm\n",
      "    temp = np.delete(temp, user_id-1, 0)\n",
      "    top = [x for (y,x) in sorted(zip(similarity,temp), key=lambda pair: pair[0], reverse=True)]\n",
      "    s = 0\n",
      "    c = 0\n",
      "    for i in range(0, top_n):\n",
      "        if top[i][i_id-1] != float('Inf'):\n",
      "            s += top[i][i_id-1]\n",
      "            c += 1\n",
      "    g = user[user_id-1] if c == 0 else s/float(c) + user[user_id-1]\n",
      "    if g < 3.0:\n",
      "        return g\n",
      "    elif g >= 3.0:\n",
      "        return g\n",
      "    else:\n",
      "        return g\n",
      "#\n",
      "temp = norm()\n",
      "print \"block start\"\n",
      "user_cluster_impact_copy = np.copy(user_cluster_impact)\n",
      "for i in range(0, no_of_users):\n",
      "#     print(i)\n",
      "    if i>2781:\n",
      "        for j in range(0, no_of_clusters):\n",
      "            if user_cluster_impact_copy[i][j] == 0:\n",
      "                #sys.stdout.write(\"\\rGuessing [User:Rating] = [%d:%d]\" % (i, j))\n",
      "                #sys.stdout.flush()\n",
      "                #time.sleep(0.00005)\n",
      "                user_cluster_impact_copy[i][j] = guess(i+1, j+1, 100,temp)\n",
      "print \"block complete\"\n"
     ],
     "language": "python",
     "metadata": {},
     "outputs": [
      {
       "output_type": "stream",
       "stream": "stdout",
       "text": [
        "block start\n",
        "block complete"
       ]
      },
      {
       "output_type": "stream",
       "stream": "stdout",
       "text": [
        "\n"
       ]
      }
     ],
     "prompt_number": 129
    },
    {
     "cell_type": "code",
     "collapsed": false,
     "input": [
      "user_cluster_impact_copy[2783]"
     ],
     "language": "python",
     "metadata": {},
     "outputs": [
      {
       "metadata": {},
       "output_type": "pyout",
       "prompt_number": 130,
       "text": [
        "array([ 3.        ,  3.20915612,  2.5       ,  3.8       ,  3.27527901,\n",
        "        3.        ,  3.28430156,  2.5       ,  3.13353961,  3.01323518,\n",
        "        3.34766423,  5.        ])"
       ]
      }
     ],
     "prompt_number": 130
    },
    {
     "cell_type": "code",
     "collapsed": false,
     "input": [
      "user_rating_matrix_test= np.zeros((no_of_users, numline))\n",
      "for j in range(0, len(rating_data_validation)):\n",
      "    user_rating_matrix_test[rating_data_validation[j][0]-1][rating_data_validation[j][1]-1]=rating_data_validation[j][2]\n"
     ],
     "language": "python",
     "metadata": {},
     "outputs": [],
     "prompt_number": 131
    },
    {
     "cell_type": "code",
     "collapsed": false,
     "input": [
      "print(len(rating_data_validation))\n",
      "rating_data_validation[0]\n"
     ],
     "language": "python",
     "metadata": {},
     "outputs": [
      {
       "output_type": "stream",
       "stream": "stdout",
       "text": [
        "100101\n"
       ]
      },
      {
       "metadata": {},
       "output_type": "pyout",
       "prompt_number": 132,
       "text": [
        "array([4656, 1584,    3,   -1])"
       ]
      }
     ],
     "prompt_number": 132
    },
    {
     "cell_type": "markdown",
     "metadata": {},
     "source": [
      "Final prediction on total as well as confidence prediction i.e. data for which algorithm is quite sure"
     ]
    },
    {
     "cell_type": "code",
     "collapsed": false,
     "input": [
      "y_true = []\n",
      "y_pred = []\n",
      "\n",
      "y_confidence_true = []\n",
      "y_confidence_pred = []\n",
      "\n",
      "\n",
      "\n",
      "ft = open('test.txt', 'w')\n",
      "for i in range(0, no_of_users):\n",
      "   if i>2781: \n",
      "       for j in range(0, numline):\n",
      "           if user_rating_matrix_test[i][j] > 0:\n",
      "               #\n",
      "#                 index_of_deal=np.where(deals2_subcolumns_nparray[:,0]==float(j+1))\n",
      "                if 1:\n",
      "                    cluster_label=cluster.predict(movie_to_cluster_cate[j].reshape(1, -1))                        \n",
      "                #                               \n",
      "                    ft.write(\"%d, %d, %.4f\\n\" % (i+1, j+1, user_cluster_impact_copy[i][cluster_label]))\n",
      "                    y_pred.append(user_cluster_impact_copy[i][cluster_label])\n",
      "                    y_true.append(user_rating_matrix_test[i][j])\n",
      "                    if user_cluster_impact_copy[i][cluster_label]>4.0:\n",
      "                        #y_true.append(user_rating_matrix_test[i][j])\n",
      "                        \n",
      "                        if user_rating_matrix_test[i][j]>=4.0:\n",
      "                            y_confidence_pred.append(5.0)\n",
      "                            y_confidence_true.append(5.0)\n",
      "                        else:\n",
      "                            y_confidence_pred.append(5.0)\n",
      "                            y_confidence_true.append(1.0)\n",
      "                    if user_cluster_impact_copy[i][cluster_label]<2.0:\n",
      "                        #y_true.append(user_rating_matrix_test[i][j])\n",
      "                        \n",
      "                        if user_rating_matrix_test[i][j]<=2.0:\n",
      "                            y_confidence_pred.append(1.0)\n",
      "                            y_confidence_true.append(1.0)\n",
      "                        else:\n",
      "                            y_confidence_pred.append(1.0)\n",
      "                            y_confidence_true.append(5.0)        "
     ],
     "language": "python",
     "metadata": {},
     "outputs": [],
     "prompt_number": 133
    },
    {
     "cell_type": "heading",
     "level": 3,
     "metadata": {},
     "source": [
      "Results and accuracy"
     ]
    },
    {
     "cell_type": "code",
     "collapsed": false,
     "input": [
      "y_pred[0:10]"
     ],
     "language": "python",
     "metadata": {},
     "outputs": [
      {
       "metadata": {},
       "output_type": "pyout",
       "prompt_number": 134,
       "text": [
        "[array([ 3.84210526]),\n",
        " array([ 3.84210526]),\n",
        " array([ 4.66666667]),\n",
        " array([ 3.84210526]),\n",
        " array([ 3.84210526]),\n",
        " array([ 3.84210526]),\n",
        " array([ 4.66666667]),\n",
        " array([ 4.28571429]),\n",
        " array([ 5.]),\n",
        " array([ 2.5])]"
       ]
      }
     ],
     "prompt_number": 134
    },
    {
     "cell_type": "code",
     "collapsed": false,
     "input": [
      "print \"Mean Squared Error: %f\" % mean_squared_error(y_true, y_pred)\n",
      "print len(y_pred)"
     ],
     "language": "python",
     "metadata": {},
     "outputs": [
      {
       "output_type": "stream",
       "stream": "stdout",
       "text": [
        "Mean Squared Error: 1.094061\n",
        "100100\n"
       ]
      }
     ],
     "prompt_number": 135
    },
    {
     "cell_type": "code",
     "collapsed": false,
     "input": [
      "print \"Mean Squared Error: %f\" % mean_squared_error(y_confidence_true, y_confidence_pred)\n",
      "print len(y_confidence_pred)"
     ],
     "language": "python",
     "metadata": {},
     "outputs": [
      {
       "output_type": "stream",
       "stream": "stdout",
       "text": [
        "Mean Squared Error: 3.508025\n",
        "22554\n"
       ]
      }
     ],
     "prompt_number": 136
    },
    {
     "cell_type": "code",
     "collapsed": false,
     "input": [],
     "language": "python",
     "metadata": {},
     "outputs": [],
     "prompt_number": 136
    },
    {
     "cell_type": "code",
     "collapsed": false,
     "input": [
      "final_pred_count=0\n",
      "for i in range(0,len(y_pred)):\n",
      "    if abs(y_pred[i]-y_true[i])<=1:\n",
      "        final_pred_count=final_pred_count+1\n",
      "        \n",
      "ratio_p=float(final_pred_count)/len(y_pred)     \n",
      "percent_p=ratio_p*100\n",
      "print \"Accuracy Score: \"+str(percent_p)+\" %\"        \n",
      "# print \"Accuracy score: %f\" % accuracy_score(y_true, y_pred1)"
     ],
     "language": "python",
     "metadata": {},
     "outputs": [
      {
       "output_type": "stream",
       "stream": "stdout",
       "text": [
        "Accuracy Score: 68.2297702298 %\n"
       ]
      }
     ],
     "prompt_number": 137
    },
    {
     "cell_type": "code",
     "collapsed": false,
     "input": [
      "final_pred_count=0\n",
      "for i in range(0,len(y_confidence_pred)):\n",
      "    if y_confidence_true[i]==y_confidence_pred[i]:\n",
      "        final_pred_count=final_pred_count+1\n",
      "        \n",
      "ratio_p=float(final_pred_count)/len(y_confidence_pred)     \n",
      "percent_p=ratio_p*100\n",
      "print \"Accuracy Score: \"+str(percent_p)+\" %\"        \n",
      "# print \"Accuracy score: %f\" % accuracy_score(y_true, y_pred1)"
     ],
     "language": "python",
     "metadata": {},
     "outputs": [
      {
       "output_type": "stream",
       "stream": "stdout",
       "text": [
        "Accuracy Score: 78.0748426 %\n"
       ]
      }
     ],
     "prompt_number": 138
    },
    {
     "cell_type": "code",
     "collapsed": false,
     "input": [],
     "language": "python",
     "metadata": {},
     "outputs": [],
     "prompt_number": 138
    },
    {
     "cell_type": "code",
     "collapsed": false,
     "input": [],
     "language": "python",
     "metadata": {},
     "outputs": [],
     "prompt_number": 138
    },
    {
     "cell_type": "code",
     "collapsed": false,
     "input": [],
     "language": "python",
     "metadata": {},
     "outputs": []
    }
   ],
   "metadata": {}
  }
 ]
}